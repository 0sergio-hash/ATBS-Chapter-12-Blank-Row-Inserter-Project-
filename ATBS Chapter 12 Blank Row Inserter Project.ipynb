{
 "cells": [
  {
   "cell_type": "markdown",
   "metadata": {},
   "source": [
    "# [Instructions for this project](https://automatetheboringstuff.com/2e/chapter12/)"
   ]
  },
  {
   "cell_type": "code",
   "execution_count": null,
   "metadata": {},
   "outputs": [],
   "source": [
    "#! python3\n",
    "# Project: Blank Row Inserter\n",
    "\n",
    "import openpyxl, sys\n",
    "from openpyxl.styles import Font\n",
    "from openpyxl.utils import get_column_letter , column_index_from_string\n",
    "\n",
    "# Take args from command line\n",
    "N = int(sys.argv[1])\n",
    "M = int(sys.argv[2])\n",
    "fileName = sys.argv[3]\n",
    "\n",
    "# Read in excel and copy contents \n",
    "\n",
    "wbOrig = openpyxl.load_workbook(fileName)\n",
    "origSheet = wbOrig.active\n",
    "botRight = get_column_letter(origSheet.max_column)+str(origSheet.max_row)\n",
    "origCellObjects = origSheet['A1':botRight]\n",
    "origDict = {}\n",
    "\n",
    "for rowEnum, rowObj in enumerate(origCellObjects):\n",
    "    if rowEnum + 1 < N:\n",
    "        for cellObj in rowObj:\n",
    "            # append value and coordinate unchanged\n",
    "            origDict.setdefault(cellObj.coordinate,cellObj.value)\n",
    "    else:\n",
    "        for cellObj in rowObj:\n",
    "            # append value adding M to row\n",
    "            newCoordinate = cellObj.coordinate[0] + str(int(cellObj.coordinate[-1]) + M)\n",
    "            origDict.setdefault(newCoordinate,cellObj.value)\n",
    "            \n",
    "# Create an excel document\n",
    "wbNew = openpyxl.Workbook()\n",
    "newSheet = wbNew.active\n",
    "\n",
    "# Iterate through dictionary, pasting in values\n",
    "\n",
    "for key, val in origDict.items():\n",
    "    newSheet[key] = val\n",
    "\n",
    "# Save workbook\n",
    "wbName = 'SPACES ADDED ' + fileName\n",
    "wbNew.save(wbName)\n",
    "\n",
    "print(wbName + ' saved to your home directory!')"
   ]
  }
 ],
 "metadata": {
  "kernelspec": {
   "display_name": "ibm_project",
   "language": "python",
   "name": "ibm_project"
  },
  "language_info": {
   "codemirror_mode": {
    "name": "ipython",
    "version": 3
   },
   "file_extension": ".py",
   "mimetype": "text/x-python",
   "name": "python",
   "nbconvert_exporter": "python",
   "pygments_lexer": "ipython3",
   "version": "3.7.9"
  }
 },
 "nbformat": 4,
 "nbformat_minor": 4
}
